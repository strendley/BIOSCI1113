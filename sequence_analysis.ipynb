{
 "cells": [
  {
   "cell_type": "markdown",
   "metadata": {},
   "source": [
    "# Protein Sequence Study: Functional Analysis & Prediction"
   ]
  },
  {
   "cell_type": "markdown",
   "metadata": {},
   "source": [
    "## Project Requirements:\n",
    "- Jupyter Notebook\n",
    "- Python3"
   ]
  },
  {
   "cell_type": "markdown",
   "metadata": {},
   "source": [
    "## How to Run:\n",
    "`jupyter notebook sequence_analysis.ipynb`"
   ]
  },
  {
   "cell_type": "markdown",
   "metadata": {},
   "source": [
    "## Purpose:\n",
    "\n",
    "The purpose of this project is to analyze protein sequences through function prediction. With the use of a large data set of DNA sequences, our project will be able to translate those sequences into a sequence of amino acids. From there, the amino acids will provide three-dimensional structure of the protein, which we will use to predict its functionality against known proteins."
   ]
  },
  {
   "cell_type": "markdown",
   "metadata": {},
   "source": [
    "## DNA to Protein Translation"
   ]
  },
  {
   "cell_type": "markdown",
   "metadata": {},
   "source": [
    "When a DNA sequence is discovered, we can translate it into the corresponding protein sequence using the genetic code. The DNA codon table shows how a triplet sequence of four nucleotides (A,T,G,C) can be uniquely related to a set of 20 amino acids. This allows us to show how the information is encoded within genetic material and how it is translated into proteins by living cells. Below is an image of the codon mapping."
   ]
  },
  {
   "cell_type": "markdown",
   "metadata": {},
   "source": [
    "![title](codon_table.png)"
   ]
  },
  {
   "cell_type": "markdown",
   "metadata": {},
   "source": [
    "From the DNA codon table, we can easily see nucleotide triplet mappings such as the STOP codon triplet, TAA. "
   ]
  },
  {
   "cell_type": "markdown",
   "metadata": {},
   "source": [
    "By creating our own codon mapping using python, we can then read in a DNA sequence, divide it out into a three-segment piece, and compare it to its protein letter to generate our protein sequence."
   ]
  },
  {
   "cell_type": "code",
   "execution_count": 23,
   "metadata": {},
   "outputs": [
    {
     "name": "stdout",
     "output_type": "stream",
     "text": [
      "Protein Sequence:  MPTTKKTLMFLSSFFTSLGSFIVICSIL\n"
     ]
    }
   ],
   "source": [
    "import re\n",
    "\n",
    "#declare variable strings\n",
    "tempStr = \"\"\n",
    "finalSeq = \"\"\n",
    "dna = \"\"\n",
    "\n",
    "#open file, clean data (remove all lines that start with \">\")\n",
    "with open(\"sample_dna.txt\",\"r\") as f:\n",
    "    for line in f:\n",
    "           if re.match(\">\",line):\n",
    "              pass\n",
    "           else:\n",
    "              line = line.rstrip(\"\\n\")\n",
    "              dna = dna + line\n",
    "                \n",
    "# create the codon table mapping\n",
    "table = { \n",
    "    'ATA':'I', 'ATC':'I', 'ATT':'I', 'ATG':'M', \n",
    "    'ACA':'T', 'ACC':'T', 'ACG':'T', 'ACT':'T', \n",
    "    'AAC':'N', 'AAT':'N', 'AAA':'K', 'AAG':'K', \n",
    "    'AGC':'S', 'AGT':'S', 'AGA':'R', 'AGG':'R',                  \n",
    "    'CTA':'L', 'CTC':'L', 'CTG':'L', 'CTT':'L', \n",
    "    'CCA':'P', 'CCC':'P', 'CCG':'P', 'CCT':'P', \n",
    "    'CAC':'H', 'CAT':'H', 'CAA':'Q', 'CAG':'Q', \n",
    "    'CGA':'R', 'CGC':'R', 'CGG':'R', 'CGT':'R', \n",
    "    'GTA':'V', 'GTC':'V', 'GTG':'V', 'GTT':'V', \n",
    "    'GCA':'A', 'GCC':'A', 'GCG':'A', 'GCT':'A', \n",
    "    'GAC':'D', 'GAT':'D', 'GAA':'E', 'GAG':'E', \n",
    "    'GGA':'G', 'GGC':'G', 'GGG':'G', 'GGT':'G', \n",
    "    'TCA':'S', 'TCC':'S', 'TCG':'S', 'TCT':'S', \n",
    "    'TTC':'F', 'TTT':'F', 'TTA':'L', 'TTG':'L', \n",
    "    'TAC':'Y', 'TAT':'Y', 'TAA':'_', 'TAG':'_', \n",
    "    'TGC':'C', 'TGT':'C', 'TGA':'_', 'TGG':'W', \n",
    "} \n",
    "    \n",
    "    \n",
    "# Generate protein sequence\n",
    "for i in range(0, len(string)-(3+len(string)%3), 3):\n",
    "    if table[dna[i:i+3]] == '_' :\n",
    "        break\n",
    "    finalSeq += table[dna[i:i+3]]\n",
    "\n",
    "# Print the protein sequence\n",
    "print (\"Protein Sequence: \", finalSeq)\n"
   ]
  },
  {
   "cell_type": "markdown",
   "metadata": {},
   "source": [
    "## Protein Function Prediction"
   ]
  },
  {
   "cell_type": "markdown",
   "metadata": {},
   "source": [
    "After we have collected a series of protein sequences from our translation, we may begin to analyze their functionality. Our chosen method of prediction is homology-based function prediction. Proteins of similar sequence tend to be homologous, thus sharing similar functionality. By comparing our newly generated protein sequences to a database of known proteins, we are able to adequately predict their functionality."
   ]
  },
  {
   "cell_type": "code",
   "execution_count": 22,
   "metadata": {},
   "outputs": [
    {
     "name": "stdout",
     "output_type": "stream",
     "text": [
      "Amino acid sequence contained within:\n",
      ">sp|Q8N1N5|CRPAK_HUMAN Cysteine-rich PAK1 inhibitor OS=Homo sapiens OX=9606 GN=CRIPAK PE=1 SV=1\n",
      "\n",
      "Total number of potential matches: 1\n",
      "\n",
      "Closest potential match: \n",
      ">sp|Q8N1N5|CRPAK_HUMAN Cysteine-rich PAK1 inhibitor OS=Homo sapiens OX=9606 GN=CRIPAK PE=1 SV=1\n",
      "\n",
      "MPTTKKTLMFLSSFFTSLGSFIVICSILGTQAWITSTIAVRDSASNGSIFITYGLFRGES\n",
      "\n"
     ]
    }
   ],
   "source": [
    "#This specific set is reviewed proteins found within humans, \n",
    "#and contains 20,379 proteins.\n",
    "\n",
    "#If you want to switch data sets, download your search results \n",
    "#from the above website as FASTA, and then just change the \n",
    "#extension to a .txt\n",
    "\n",
    "\n",
    "fileName = \"sequenceData.txt\"\n",
    "sequenceData = []\n",
    "sequenceInfo = []\n",
    "\n",
    "def getData():\n",
    "    with open(fileName,'r') as fp:\n",
    "        i = -1\n",
    "        for line in fp:\n",
    "            if(line[0] == '>'):\n",
    "                i = i+1\n",
    "                sequenceInfo.append(line)\n",
    "            else:\n",
    "                if(i == len(sequenceData)):\n",
    "                    sequenceData.append(line)\n",
    "                else:\n",
    "                    sequenceData.append(line)\n",
    "                    #sequenceData[i]+=line\n",
    "    return\n",
    "\n",
    "#the checkSequence() function takes in the amino acid sequence \n",
    "#and checks the file for any matching sequences, and alerts the \n",
    "#user if there are any possible matches that the passed sequence \n",
    "#contain and tells the user which sequence match is closest \n",
    "#in size.\n",
    "\n",
    "def checkSequence(AAsequence):\n",
    "    getData()\n",
    "    count = 0\n",
    "    bestMatch = -1\n",
    "    bestMatchID = -1\n",
    "    i = 0\n",
    "    for entry in sequenceData:\n",
    "        if(AAsequence in entry):\n",
    "            print(\"Amino acid sequence contained within:\")\n",
    "            print(sequenceInfo[i])\n",
    "            if(len(AAsequence)/len(entry) > bestMatch):\n",
    "                bestMatch = len(AAsequence)/len(entry)\n",
    "                bestMatchID = i\n",
    "            count+=1\n",
    "        i += 1\n",
    "    print(\"Total number of potential matches: \" + str(count))\n",
    "    if(bestMatchID > -1):\n",
    "        print(\"\\nClosest potential match: \\n\" \n",
    "              + sequenceInfo[bestMatchID] + \"\\n\" \n",
    "              + sequenceData[bestMatchID])\n",
    "    return\n",
    "\n",
    "\n",
    "checkSequence(\"MPTTKKTLMFLSSFFTSLGSFIVICSIL\")\n",
    "\n",
    "#checkSequence(\"MEVFKAPPIGI\")\n"
   ]
  },
  {
   "cell_type": "markdown",
   "metadata": {},
   "source": [
    "## Conclusion"
   ]
  },
  {
   "cell_type": "markdown",
   "metadata": {},
   "source": [
    "The three-dimensional structure of a protein has a direct relationship with its functionality. It is widely accepted that the function of an unknown protein can be determined if its structure is similar to another protein whose function is known. However, it has also been observed that some proteins that share similar global structures do not necessarily correspond to the same function. This proposes that function similarity may originate from the local structural information of a protein rather than their global shapes. In our project, we have shown a method of prediction based on sequence similarity, which uses a protein's sequence as its primary local structure.\n",
    "\n",
    "\n",
    "Our program exist currently on a small scale, but can be expanded to predict functionality of unknown protein sequences in a relatively fast amount of time. By providing a means for protein function prediction, we have gained a better understanding of bioinformatics and its benefits towards human biology. Bioinformatics helps us make predictions that better industries, such as healthcare, and further scientific research as well as clinical treatments. "
   ]
  },
  {
   "cell_type": "markdown",
   "metadata": {},
   "source": [
    "## Sources:\n",
    "\n",
    "Protein data for the function prediction program is pulled from:\n",
    "\n",
    "https://www.uniprot.org/uniprot/?query=*&fil=organism%3A%22Homo+sapiens+%28Human%29+%5B9606%5D%22+AND+reviewed%3Ayes\n"
   ]
  },
  {
   "cell_type": "markdown",
   "metadata": {},
   "source": [
    "## Contributors:\n",
    "\n",
    "- Sercan Akcay\n",
    "- Adel Alazemi\n",
    "- Wyatt Pickett \n",
    "- Kaylyn Schnaus\n",
    "- Skylar Trendley"
   ]
  }
 ],
 "metadata": {
  "kernelspec": {
   "display_name": "Python 3",
   "language": "python",
   "name": "python3"
  },
  "language_info": {
   "codemirror_mode": {
    "name": "ipython",
    "version": 3
   },
   "file_extension": ".py",
   "mimetype": "text/x-python",
   "name": "python",
   "nbconvert_exporter": "python",
   "pygments_lexer": "ipython3",
   "version": "3.7.3"
  }
 },
 "nbformat": 4,
 "nbformat_minor": 2
}
