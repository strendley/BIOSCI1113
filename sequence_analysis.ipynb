{
 "cells": [
  {
   "cell_type": "markdown",
   "metadata": {},
   "source": [
    "# Protein Sequence Study:\n",
    "\n",
    "\n",
    "# Functional Analysis & Prediction"
   ]
  },
  {
   "cell_type": "markdown",
   "metadata": {},
   "source": [
    "## Project Requirements:\n",
    "- Jupyter Notebook\n",
    "- Python3"
   ]
  },
  {
   "cell_type": "markdown",
   "metadata": {},
   "source": [
    "## How to Run:\n",
    "`jupyter notebook sequence_analysis.ipynb`"
   ]
  },
  {
   "cell_type": "markdown",
   "metadata": {},
   "source": [
    "## Purpose:\n",
    "\n",
    "The purpose of this project is to analyze protein sequences through function prediction. With the use of a large data set of DNA sequences, our project will be able to translate those sequences into a sequence of amino acids. From there, the amino acids will provide three-dimensional structure of the protein, which we will use to predict its functionality against known proteins."
   ]
  },
  {
   "cell_type": "markdown",
   "metadata": {},
   "source": [
    "## DNA to Protein Translation"
   ]
  },
  {
   "cell_type": "markdown",
   "metadata": {},
   "source": [
    "Explanation of protein translation"
   ]
  },
  {
   "cell_type": "markdown",
   "metadata": {},
   "source": [
    "Sercan's code goes here"
   ]
  },
  {
   "cell_type": "markdown",
   "metadata": {},
   "source": [
    "## Protein Function Prediction"
   ]
  },
  {
   "cell_type": "markdown",
   "metadata": {},
   "source": [
    "explanation of our prediction technique"
   ]
  },
  {
   "cell_type": "markdown",
   "metadata": {},
   "source": [
    "Protein data is pulled from: https://www.uniprot.org/uniprot/?query=*&fil=organism%3A%22Homo+sapiens+%28Human%29+%5B9606%5D%22+AND+reviewed%3Ayes"
   ]
  },
  {
   "cell_type": "code",
   "execution_count": 3,
   "metadata": {},
   "outputs": [
    {
     "name": "stdout",
     "output_type": "stream",
     "text": [
      "Amino acid sequence contained within:\n",
      ">sp|Q8N1N5|CRPAK_HUMAN Cysteine-rich PAK1 inhibitor OS=Homo sapiens OX=9606 GN=CRIPAK PE=1 SV=1\n",
      "\n",
      "Total number of potential matches: 1\n",
      "\n",
      "Closest potential match: \n",
      ">sp|Q8N1N5|CRPAK_HUMAN Cysteine-rich PAK1 inhibitor OS=Homo sapiens OX=9606 GN=CRIPAK PE=1 SV=1\n",
      "\n",
      "MPTTKKTLMFLSSFFTSLGSFIVICSILGTQAWITSTIAVRDSASNGSIFITYGLFRGES\n",
      "\n"
     ]
    }
   ],
   "source": [
    "#This specific set is reviewed proteins found within humans, \n",
    "#and contains 20,379 proteins.\n",
    "\n",
    "#If you want to switch data sets, download your search results \n",
    "#from the above website as FASTA, and then just change the \n",
    "#extension to a .txt\n",
    "\n",
    "\n",
    "fileName = \"sequenceData.txt\"\n",
    "sequenceData = []\n",
    "sequenceInfo = []\n",
    "\n",
    "def getData():\n",
    "    with open(fileName,'r') as fp:\n",
    "        i = -1\n",
    "        for line in fp:\n",
    "            if(line[0] == '>'):\n",
    "                i = i+1\n",
    "                sequenceInfo.append(line)\n",
    "            else:\n",
    "                if(i == len(sequenceData)):\n",
    "                    sequenceData.append(line)\n",
    "                else:\n",
    "                    sequenceData.append(line)\n",
    "                    #sequenceData[i]+=line\n",
    "    return\n",
    "\n",
    "#the checkSequence() function takes in the amino acid sequence \n",
    "#and checks the file for any matching sequences, and alerts the \n",
    "#user if there are any possible matches that the passed sequence \n",
    "#contain and tells the user which sequence match is closest \n",
    "#in size.\n",
    "\n",
    "def checkSequence(AAsequence):\n",
    "    getData()\n",
    "    count = 0\n",
    "    bestMatch = -1\n",
    "    bestMatchID = -1\n",
    "    i = 0\n",
    "    for entry in sequenceData:\n",
    "        if(AAsequence in entry):\n",
    "            print(\"Amino acid sequence contained within:\")\n",
    "            print(sequenceInfo[i])\n",
    "            if(len(AAsequence)/len(entry) > bestMatch):\n",
    "                bestMatch = len(AAsequence)/len(entry)\n",
    "                bestMatchID = i\n",
    "            count+=1\n",
    "        i += 1\n",
    "    print(\"Total number of potential matches: \" + str(count))\n",
    "    if(bestMatchID > -1):\n",
    "        print(\"\\nClosest potential match: \\n\" \n",
    "              + sequenceInfo[bestMatchID] + \"\\n\" \n",
    "              + sequenceData[bestMatchID])\n",
    "    return\n",
    "\n",
    "\n",
    "checkSequence(\"MPTTK\")"
   ]
  },
  {
   "cell_type": "markdown",
   "metadata": {},
   "source": [
    "## Conclusion"
   ]
  },
  {
   "cell_type": "markdown",
   "metadata": {},
   "source": [
    "The three-dimensional structure of a protein has a direct relationship with its functionality. It is widely accepted that the function of an unknown protein can be determined if its structure is similar to another protein whose function is known. However, it has also been observed that some proteins that share similar global structures do not necessarily correspond to the same function. This proposes that function similarity may originate from the local structural information of a protein rather than their global shapes. In our project, we have shown a method of prediction based on sequence similarity, which uses a protein's sequence as its primary local structure.\n",
    "\n",
    "\n",
    "Our program exist currently on a small scale, but can be expanded to predict functionality of unknown protein sequences in a relatively fast amount of time. By providing a means for protein function prediction, we have gained a better understanding of bioinformatics and its benefits towards human biology. Bioinformatics helps us make predictions that better industries, such as healthcare, and further scientific research as well as clinical treatments. "
   ]
  },
  {
   "cell_type": "code",
   "execution_count": null,
   "metadata": {},
   "outputs": [],
   "source": []
  }
 ],
 "metadata": {
  "kernelspec": {
   "display_name": "Python 3",
   "language": "python",
   "name": "python3"
  },
  "language_info": {
   "codemirror_mode": {
    "name": "ipython",
    "version": 3
   },
   "file_extension": ".py",
   "mimetype": "text/x-python",
   "name": "python",
   "nbconvert_exporter": "python",
   "pygments_lexer": "ipython3",
   "version": "3.7.3"
  }
 },
 "nbformat": 4,
 "nbformat_minor": 2
}
